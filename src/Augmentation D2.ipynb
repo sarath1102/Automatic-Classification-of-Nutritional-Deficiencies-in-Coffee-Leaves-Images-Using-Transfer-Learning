{
 "cells": [
  {
   "cell_type": "markdown",
   "metadata": {},
   "source": [
    "## Data Augmentation \n"
   ]
  },
  {
   "cell_type": "markdown",
   "metadata": {},
   "source": [
    "### Train"
   ]
  },
  {
   "cell_type": "code",
   "execution_count": null,
   "metadata": {},
   "outputs": [],
   "source": [
    "import os\n",
    "from tensorflow.keras.preprocessing.image import load_img, img_to_array, save_img\n",
    "from tensorflow.keras.preprocessing.image import random_rotation, random_shear\n",
    "from libs.models import DATASET_ROOT_PATH\n",
    "\n",
    "# Define paths\n",
    "train_folder = DATASET_ROOT_PATH + '/split_data/train'  # Path to the main train folder\n",
    "augmented_images_folder = DATASET_ROOT_PATH + '/aug_image_train'  # Folder to save augmented images\n",
    "\n",
    "# Create the augmented images folder if it doesn't exist\n",
    "os.makedirs(augmented_images_folder, exist_ok=True)\n",
    "\n",
    "# Augmentation parameters\n",
    "rotation_range = 40\n",
    "shear_range = 0.2\n",
    "\n",
    "# Iterate through the subfolders in the train folder\n",
    "for subfolder in os.listdir(train_folder):\n",
    "    subfolder_path = os.path.join(train_folder, subfolder)\n",
    "    if os.path.isdir(subfolder_path):\n",
    "        # Create a subfolder in the augmented images folder for this class\n",
    "        class_augmented_images_folder = os.path.join(augmented_images_folder, subfolder)\n",
    "        os.makedirs(class_augmented_images_folder, exist_ok=True)\n",
    "        \n",
    "        # Iterate through the images in the current subfolder\n",
    "        for filename in os.listdir(subfolder_path):\n",
    "            # Skip .DS_Store files\n",
    "            if filename.startswith('.DS_Store'):\n",
    "                continue\n",
    "            \n",
    "            image_path = os.path.join(subfolder_path, filename)\n",
    "            img = load_img(image_path, target_size=(224, 224))  # Resize image to (224, 224)\n",
    "            x = img_to_array(img)\n",
    "\n",
    "            # Apply random rotation\n",
    "            rotated_image = random_rotation(x, rotation_range, row_axis=0, col_axis=1, channel_axis=2)\n",
    "            rotated_image_path = os.path.join(class_augmented_images_folder, f\"rotated_{filename}\")\n",
    "            save_img(rotated_image_path, rotated_image)\n",
    "\n",
    "            # Apply random shear\n",
    "            sheared_image = random_shear(x, shear_range, row_axis=0, col_axis=1, channel_axis=2)\n",
    "            sheared_image_path = os.path.join(class_augmented_images_folder, f\"sheared_{filename}\")\n",
    "            save_img(sheared_image_path, sheared_image)\n",
    "\n",
    "print(\"Augmentation completed and augmented images saved in 'aug_image_train' folder.\")\n"
   ]
  },
  {
   "cell_type": "markdown",
   "metadata": {},
   "source": [
    "### Test"
   ]
  },
  {
   "cell_type": "code",
   "execution_count": null,
   "metadata": {},
   "outputs": [],
   "source": [
    "import os\n",
    "from tensorflow.keras.preprocessing.image import load_img, img_to_array, save_img\n",
    "from tensorflow.keras.preprocessing.image import random_rotation, random_shear\n",
    "\n",
    "# Define paths\n",
    "train_folder = r'/Users/sarath/Documents/Files/split_data/test'  # Path to the main train folder\n",
    "augmented_images_folder = r'/Users/sarath/Documents/Files/aug_image_test'  # Folder to save augmented images\n",
    "\n",
    "# Create the augmented images folder if it doesn't exist\n",
    "os.makedirs(augmented_images_folder, exist_ok=True)\n",
    "\n",
    "# Augmentation parameters\n",
    "rotation_range = 40\n",
    "shear_range = 0.2\n",
    "\n",
    "# Iterate through the subfolders in the train folder\n",
    "for subfolder in os.listdir(train_folder):\n",
    "    subfolder_path = os.path.join(train_folder, subfolder)\n",
    "    if os.path.isdir(subfolder_path):\n",
    "        # Create a subfolder in the augmented images folder for this class\n",
    "        class_augmented_images_folder = os.path.join(augmented_images_folder, subfolder)\n",
    "        os.makedirs(class_augmented_images_folder, exist_ok=True)\n",
    "        \n",
    "        # Iterate through the images in the current subfolder\n",
    "        for filename in os.listdir(subfolder_path):\n",
    "            # Skip .DS_Store files\n",
    "            if filename.startswith('.DS_Store'):\n",
    "                continue\n",
    "            \n",
    "            image_path = os.path.join(subfolder_path, filename)\n",
    "            img = load_img(image_path, target_size=(224, 224))  # Resize image to (224, 224)\n",
    "            x = img_to_array(img)\n",
    "\n",
    "            # Apply random rotation\n",
    "            rotated_image = random_rotation(x, rotation_range, row_axis=0, col_axis=1, channel_axis=2)\n",
    "            rotated_image_path = os.path.join(class_augmented_images_folder, f\"rotated_{filename}\")\n",
    "            save_img(rotated_image_path, rotated_image)\n",
    "\n",
    "            # Apply random shear\n",
    "            sheared_image = random_shear(x, shear_range, row_axis=0, col_axis=1, channel_axis=2)\n",
    "            sheared_image_path = os.path.join(class_augmented_images_folder, f\"sheared_{filename}\")\n",
    "            save_img(sheared_image_path, sheared_image)\n",
    "\n",
    "print(\"Augmentation completed and augmented images saved in 'aug_image_test' folder.\")\n"
   ]
  }
 ],
 "metadata": {
  "kernelspec": {
   "display_name": "base",
   "language": "python",
   "name": "python3"
  },
  "language_info": {
   "codemirror_mode": {
    "name": "ipython",
    "version": 3
   },
   "file_extension": ".py",
   "mimetype": "text/x-python",
   "name": "python",
   "nbconvert_exporter": "python",
   "pygments_lexer": "ipython3",
   "version": "3.12.4"
  }
 },
 "nbformat": 4,
 "nbformat_minor": 2
}
