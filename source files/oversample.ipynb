{
 "cells": [
  {
   "cell_type": "code",
   "execution_count": 2,
   "metadata": {},
   "outputs": [
    {
     "name": "stdout",
     "output_type": "stream",
     "text": [
      "Generated 61 augmented images for class 'boron-B'.\n",
      "Generated 66 augmented images for class 'potasium-K'.\n",
      "Generated 97 augmented images for class 'iron-Fe'.\n",
      "Oversampling complete.\n"
     ]
    }
   ],
   "source": [
    "import os\n",
    "import numpy as np\n",
    "from tensorflow.keras.preprocessing.image import ImageDataGenerator, img_to_array, load_img\n",
    "\n",
    "def load_images_from_directory(directory, target_size=(256, 256)):\n",
    "    images = []\n",
    "    for filename in os.listdir(directory):\n",
    "        img_path = os.path.join(directory, filename)\n",
    "        if os.path.isfile(img_path):\n",
    "            img = load_img(img_path, target_size=target_size)\n",
    "            img_array = img_to_array(img)\n",
    "            images.append(img_array)\n",
    "    return np.array(images)\n",
    "\n",
    "def save_augmented_images(generator, images, save_dir, prefix, n_augmented_images):\n",
    "    if not os.path.exists(save_dir):\n",
    "        os.makedirs(save_dir)\n",
    "    count = 0\n",
    "    for i in range(n_augmented_images):\n",
    "        for batch in generator.flow(images, batch_size=1, save_to_dir=save_dir, save_prefix=prefix, save_format='jpg'):\n",
    "            count += 1\n",
    "            if count >= n_augmented_images:\n",
    "                break\n",
    "        if count >= n_augmented_images:\n",
    "            break\n",
    "\n",
    "# Parameters\n",
    "base_directory = '/Users/sarath/Documents/Files/Dataset'\n",
    "output_directory = '/Users/sarath/Documents/Files/NewDataset'\n",
    "target_size = (256, 256)\n",
    "prefix = 'augmented'  # Prefix for augmented image filenames\n",
    "\n",
    "# Create an ImageDataGenerator with augmentation parameters\n",
    "datagen = ImageDataGenerator(\n",
    "    rotation_range=40,\n",
    "    shear_range=0.2,\n",
    "    \n",
    ")\n",
    "\n",
    "# Load images and calculate the maximum number of images in a class\n",
    "class_folders = [os.path.join(base_directory, class_folder) for class_folder in os.listdir(base_directory) if os.path.isdir(os.path.join(base_directory, class_folder))]\n",
    "class_image_counts = {class_folder: len(os.listdir(class_folder)) for class_folder in class_folders}\n",
    "max_images = max(class_image_counts.values())\n",
    "\n",
    "# Oversample each class to match the class with the maximum number of images\n",
    "for class_folder in class_folders:\n",
    "    images = load_images_from_directory(class_folder, target_size)\n",
    "    num_images_to_generate = max_images - len(images)\n",
    "    if num_images_to_generate > 0:\n",
    "        class_name = os.path.basename(class_folder)\n",
    "        save_augmented_images(datagen, images, os.path.join(output_directory, class_name), prefix, num_images_to_generate)\n",
    "        print(f\"Generated {num_images_to_generate} augmented images for class '{class_name}'.\")\n",
    "\n",
    "print(\"Oversampling complete.\")\n"
   ]
  }
 ],
 "metadata": {
  "kernelspec": {
   "display_name": "base",
   "language": "python",
   "name": "python3"
  },
  "language_info": {
   "codemirror_mode": {
    "name": "ipython",
    "version": 3
   },
   "file_extension": ".py",
   "mimetype": "text/x-python",
   "name": "python",
   "nbconvert_exporter": "python",
   "pygments_lexer": "ipython3",
   "version": "3.1.-1"
  }
 },
 "nbformat": 4,
 "nbformat_minor": 2
}
